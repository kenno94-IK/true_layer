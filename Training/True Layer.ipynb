{
 "cells": [
  {
   "cell_type": "code",
   "execution_count": 1,
   "id": "5ad84a5e",
   "metadata": {},
   "outputs": [
    {
     "name": "stderr",
     "output_type": "stream",
     "text": [
      "[nltk_data] Downloading package stopwords to\n",
      "[nltk_data]     C:\\Users\\kenne\\AppData\\Roaming\\nltk_data...\n",
      "[nltk_data]   Package stopwords is already up-to-date!\n",
      "[nltk_data] Downloading package wordnet to\n",
      "[nltk_data]     C:\\Users\\kenne\\AppData\\Roaming\\nltk_data...\n",
      "[nltk_data]   Package wordnet is already up-to-date!\n"
     ]
    },
    {
     "data": {
      "text/plain": [
       "True"
      ]
     },
     "execution_count": 1,
     "metadata": {},
     "output_type": "execute_result"
    }
   ],
   "source": [
    "import numpy as np\n",
    "import matplotlib.pyplot as plt\n",
    "import os\n",
    "import numpy as np\n",
    "import io\n",
    "import pandas as pd\n",
    "import json\n",
    "import nltk\n",
    "from nltk.corpus import stopwords\n",
    "from nltk.stem import WordNetLemmatizer\n",
    "import tensorflow as tf\n",
    "from tensorflow.keras.preprocessing.text import Tokenizer\n",
    "from tensorflow.keras.preprocessing.sequence import pad_sequences\n",
    "from tensorflow.keras import Sequential\n",
    "from tensorflow.keras import layers\n",
    "from tensorflow.keras.layers import Embedding, Dense, Conv1D, MaxPooling1D, Flatten\n",
    "from sklearn import preprocessing\n",
    "import pickle\n",
    "nltk.download('stopwords')\n",
    "nltk.download('wordnet')"
   ]
  },
  {
   "cell_type": "markdown",
   "id": "bd66c127",
   "metadata": {},
   "source": [
    "### Import Metadata CSV"
   ]
  },
  {
   "cell_type": "code",
   "execution_count": 2,
   "id": "1c467ea7",
   "metadata": {},
   "outputs": [
    {
     "name": "stderr",
     "output_type": "stream",
     "text": [
      "C:\\Users\\kenne\\miniconda3\\envs\\hoMachineLearning\\lib\\site-packages\\IPython\\core\\interactiveshell.py:3165: DtypeWarning: Columns (10) have mixed types.Specify dtype option on import or set low_memory=False.\n",
      "  has_raised = await self.run_ast_nodes(code_ast.body, cell_name,\n"
     ]
    }
   ],
   "source": [
    "metadata = pd.read_csv(os.getcwd() + '\\movies_metadata.csv')"
   ]
  },
  {
   "cell_type": "code",
   "execution_count": 3,
   "id": "bd3d708d",
   "metadata": {},
   "outputs": [
    {
     "data": {
      "text/plain": [
       "Index(['adult', 'belongs_to_collection', 'budget', 'genres', 'homepage', 'id',\n",
       "       'imdb_id', 'original_language', 'original_title', 'overview',\n",
       "       'popularity', 'poster_path', 'production_companies',\n",
       "       'production_countries', 'release_date', 'revenue', 'runtime',\n",
       "       'spoken_languages', 'status', 'tagline', 'title', 'video',\n",
       "       'vote_average', 'vote_count'],\n",
       "      dtype='object')"
      ]
     },
     "execution_count": 3,
     "metadata": {},
     "output_type": "execute_result"
    }
   ],
   "source": [
    "metadata.columns"
   ]
  },
  {
   "cell_type": "code",
   "execution_count": 4,
   "id": "dfdd3a2d",
   "metadata": {},
   "outputs": [],
   "source": [
    "input_data = pd.DataFrame()\n",
    "input_data['id'] = metadata['id'].copy()\n",
    "input_data['title'] = metadata['title'].copy()\n",
    "input_data['genres'] = metadata['genres'].copy()"
   ]
  },
  {
   "cell_type": "code",
   "execution_count": 5,
   "id": "0feb1897",
   "metadata": {},
   "outputs": [
    {
     "data": {
      "text/html": [
       "<div>\n",
       "<style scoped>\n",
       "    .dataframe tbody tr th:only-of-type {\n",
       "        vertical-align: middle;\n",
       "    }\n",
       "\n",
       "    .dataframe tbody tr th {\n",
       "        vertical-align: top;\n",
       "    }\n",
       "\n",
       "    .dataframe thead th {\n",
       "        text-align: right;\n",
       "    }\n",
       "</style>\n",
       "<table border=\"1\" class=\"dataframe\">\n",
       "  <thead>\n",
       "    <tr style=\"text-align: right;\">\n",
       "      <th></th>\n",
       "      <th>id</th>\n",
       "      <th>title</th>\n",
       "      <th>genres</th>\n",
       "      <th>genre</th>\n",
       "    </tr>\n",
       "  </thead>\n",
       "  <tbody>\n",
       "    <tr>\n",
       "      <th>0</th>\n",
       "      <td>862</td>\n",
       "      <td>Toy Story</td>\n",
       "      <td>[{'id': 16, 'name': 'Animation'}, {'id': 35, '...</td>\n",
       "      <td></td>\n",
       "    </tr>\n",
       "    <tr>\n",
       "      <th>1</th>\n",
       "      <td>8844</td>\n",
       "      <td>Jumanji</td>\n",
       "      <td>[{'id': 12, 'name': 'Adventure'}, {'id': 14, '...</td>\n",
       "      <td></td>\n",
       "    </tr>\n",
       "    <tr>\n",
       "      <th>2</th>\n",
       "      <td>15602</td>\n",
       "      <td>Grumpier Old Men</td>\n",
       "      <td>[{'id': 10749, 'name': 'Romance'}, {'id': 35, ...</td>\n",
       "      <td></td>\n",
       "    </tr>\n",
       "    <tr>\n",
       "      <th>3</th>\n",
       "      <td>31357</td>\n",
       "      <td>Waiting to Exhale</td>\n",
       "      <td>[{'id': 35, 'name': 'Comedy'}, {'id': 18, 'nam...</td>\n",
       "      <td></td>\n",
       "    </tr>\n",
       "    <tr>\n",
       "      <th>4</th>\n",
       "      <td>11862</td>\n",
       "      <td>Father of the Bride Part II</td>\n",
       "      <td>[{'id': 35, 'name': 'Comedy'}]</td>\n",
       "      <td></td>\n",
       "    </tr>\n",
       "    <tr>\n",
       "      <th>...</th>\n",
       "      <td>...</td>\n",
       "      <td>...</td>\n",
       "      <td>...</td>\n",
       "      <td>...</td>\n",
       "    </tr>\n",
       "    <tr>\n",
       "      <th>45461</th>\n",
       "      <td>439050</td>\n",
       "      <td>Subdue</td>\n",
       "      <td>[{'id': 18, 'name': 'Drama'}, {'id': 10751, 'n...</td>\n",
       "      <td></td>\n",
       "    </tr>\n",
       "    <tr>\n",
       "      <th>45462</th>\n",
       "      <td>111109</td>\n",
       "      <td>Century of Birthing</td>\n",
       "      <td>[{'id': 18, 'name': 'Drama'}]</td>\n",
       "      <td></td>\n",
       "    </tr>\n",
       "    <tr>\n",
       "      <th>45463</th>\n",
       "      <td>67758</td>\n",
       "      <td>Betrayal</td>\n",
       "      <td>[{'id': 28, 'name': 'Action'}, {'id': 18, 'nam...</td>\n",
       "      <td></td>\n",
       "    </tr>\n",
       "    <tr>\n",
       "      <th>45464</th>\n",
       "      <td>227506</td>\n",
       "      <td>Satan Triumphant</td>\n",
       "      <td>[]</td>\n",
       "      <td></td>\n",
       "    </tr>\n",
       "    <tr>\n",
       "      <th>45465</th>\n",
       "      <td>461257</td>\n",
       "      <td>Queerama</td>\n",
       "      <td>[]</td>\n",
       "      <td></td>\n",
       "    </tr>\n",
       "  </tbody>\n",
       "</table>\n",
       "<p>45466 rows × 4 columns</p>\n",
       "</div>"
      ],
      "text/plain": [
       "           id                        title  \\\n",
       "0         862                    Toy Story   \n",
       "1        8844                      Jumanji   \n",
       "2       15602             Grumpier Old Men   \n",
       "3       31357            Waiting to Exhale   \n",
       "4       11862  Father of the Bride Part II   \n",
       "...       ...                          ...   \n",
       "45461  439050                       Subdue   \n",
       "45462  111109          Century of Birthing   \n",
       "45463   67758                     Betrayal   \n",
       "45464  227506             Satan Triumphant   \n",
       "45465  461257                     Queerama   \n",
       "\n",
       "                                                  genres genre  \n",
       "0      [{'id': 16, 'name': 'Animation'}, {'id': 35, '...        \n",
       "1      [{'id': 12, 'name': 'Adventure'}, {'id': 14, '...        \n",
       "2      [{'id': 10749, 'name': 'Romance'}, {'id': 35, ...        \n",
       "3      [{'id': 35, 'name': 'Comedy'}, {'id': 18, 'nam...        \n",
       "4                         [{'id': 35, 'name': 'Comedy'}]        \n",
       "...                                                  ...   ...  \n",
       "45461  [{'id': 18, 'name': 'Drama'}, {'id': 10751, 'n...        \n",
       "45462                      [{'id': 18, 'name': 'Drama'}]        \n",
       "45463  [{'id': 28, 'name': 'Action'}, {'id': 18, 'nam...        \n",
       "45464                                                 []        \n",
       "45465                                                 []        \n",
       "\n",
       "[45466 rows x 4 columns]"
      ]
     },
     "execution_count": 5,
     "metadata": {},
     "output_type": "execute_result"
    }
   ],
   "source": [
    "input_data['genre'] = ''\n",
    "input_data"
   ]
  },
  {
   "cell_type": "code",
   "execution_count": 6,
   "id": "117bb1fd",
   "metadata": {},
   "outputs": [],
   "source": [
    "### Just take first word\n",
    "for i in range(input_data.shape[0]):\n",
    "    \n",
    "    json_str = input_data.iloc[i,2]\n",
    "    json_str = json_str.strip('[]')\n",
    "    json_str = json_str.replace('{','')\n",
    "    json_str = json_str.replace('}','')\n",
    "    json_list = json_str.split(',')\n",
    "    for j in json_list[1:3:2]:\n",
    "        word = j.split(':')[1].strip(' ').strip('\\'')\n",
    "    \n",
    "    #words = word.strip(' ')\n",
    "    input_data.iloc[i,3] = word"
   ]
  },
  {
   "cell_type": "code",
   "execution_count": 7,
   "id": "98fc369e",
   "metadata": {},
   "outputs": [
    {
     "data": {
      "text/html": [
       "<div>\n",
       "<style scoped>\n",
       "    .dataframe tbody tr th:only-of-type {\n",
       "        vertical-align: middle;\n",
       "    }\n",
       "\n",
       "    .dataframe tbody tr th {\n",
       "        vertical-align: top;\n",
       "    }\n",
       "\n",
       "    .dataframe thead th {\n",
       "        text-align: right;\n",
       "    }\n",
       "</style>\n",
       "<table border=\"1\" class=\"dataframe\">\n",
       "  <thead>\n",
       "    <tr style=\"text-align: right;\">\n",
       "      <th></th>\n",
       "      <th>id</th>\n",
       "      <th>title</th>\n",
       "      <th>genre</th>\n",
       "    </tr>\n",
       "  </thead>\n",
       "  <tbody>\n",
       "    <tr>\n",
       "      <th>0</th>\n",
       "      <td>862</td>\n",
       "      <td>Toy Story</td>\n",
       "      <td>Animation</td>\n",
       "    </tr>\n",
       "    <tr>\n",
       "      <th>1</th>\n",
       "      <td>8844</td>\n",
       "      <td>Jumanji</td>\n",
       "      <td>Adventure</td>\n",
       "    </tr>\n",
       "    <tr>\n",
       "      <th>2</th>\n",
       "      <td>15602</td>\n",
       "      <td>Grumpier Old Men</td>\n",
       "      <td>Romance</td>\n",
       "    </tr>\n",
       "    <tr>\n",
       "      <th>3</th>\n",
       "      <td>31357</td>\n",
       "      <td>Waiting to Exhale</td>\n",
       "      <td>Comedy</td>\n",
       "    </tr>\n",
       "    <tr>\n",
       "      <th>4</th>\n",
       "      <td>11862</td>\n",
       "      <td>Father of the Bride Part II</td>\n",
       "      <td>Comedy</td>\n",
       "    </tr>\n",
       "    <tr>\n",
       "      <th>...</th>\n",
       "      <td>...</td>\n",
       "      <td>...</td>\n",
       "      <td>...</td>\n",
       "    </tr>\n",
       "    <tr>\n",
       "      <th>45461</th>\n",
       "      <td>439050</td>\n",
       "      <td>Subdue</td>\n",
       "      <td>Drama</td>\n",
       "    </tr>\n",
       "    <tr>\n",
       "      <th>45462</th>\n",
       "      <td>111109</td>\n",
       "      <td>Century of Birthing</td>\n",
       "      <td>Drama</td>\n",
       "    </tr>\n",
       "    <tr>\n",
       "      <th>45463</th>\n",
       "      <td>67758</td>\n",
       "      <td>Betrayal</td>\n",
       "      <td>Action</td>\n",
       "    </tr>\n",
       "    <tr>\n",
       "      <th>45464</th>\n",
       "      <td>227506</td>\n",
       "      <td>Satan Triumphant</td>\n",
       "      <td>Action</td>\n",
       "    </tr>\n",
       "    <tr>\n",
       "      <th>45465</th>\n",
       "      <td>461257</td>\n",
       "      <td>Queerama</td>\n",
       "      <td>Action</td>\n",
       "    </tr>\n",
       "  </tbody>\n",
       "</table>\n",
       "<p>45466 rows × 3 columns</p>\n",
       "</div>"
      ],
      "text/plain": [
       "           id                        title      genre\n",
       "0         862                    Toy Story  Animation\n",
       "1        8844                      Jumanji  Adventure\n",
       "2       15602             Grumpier Old Men    Romance\n",
       "3       31357            Waiting to Exhale     Comedy\n",
       "4       11862  Father of the Bride Part II     Comedy\n",
       "...       ...                          ...        ...\n",
       "45461  439050                       Subdue      Drama\n",
       "45462  111109          Century of Birthing      Drama\n",
       "45463   67758                     Betrayal     Action\n",
       "45464  227506             Satan Triumphant     Action\n",
       "45465  461257                     Queerama     Action\n",
       "\n",
       "[45466 rows x 3 columns]"
      ]
     },
     "execution_count": 7,
     "metadata": {},
     "output_type": "execute_result"
    }
   ],
   "source": [
    "del input_data['genres']\n",
    "input_data"
   ]
  },
  {
   "cell_type": "markdown",
   "id": "2aa5bafa",
   "metadata": {},
   "source": [
    "### Import Keywords CSV"
   ]
  },
  {
   "cell_type": "code",
   "execution_count": 8,
   "id": "14a139e6",
   "metadata": {},
   "outputs": [],
   "source": [
    "keywords = pd.read_csv(os.getcwd() + '\\keywords.csv')"
   ]
  },
  {
   "cell_type": "code",
   "execution_count": 9,
   "id": "15375c45",
   "metadata": {},
   "outputs": [
    {
     "data": {
      "text/plain": [
       "Index(['id', 'keywords'], dtype='object')"
      ]
     },
     "execution_count": 9,
     "metadata": {},
     "output_type": "execute_result"
    }
   ],
   "source": [
    "keywords.columns"
   ]
  },
  {
   "cell_type": "code",
   "execution_count": 10,
   "id": "ceb0a026",
   "metadata": {},
   "outputs": [
    {
     "data": {
      "text/html": [
       "<div>\n",
       "<style scoped>\n",
       "    .dataframe tbody tr th:only-of-type {\n",
       "        vertical-align: middle;\n",
       "    }\n",
       "\n",
       "    .dataframe tbody tr th {\n",
       "        vertical-align: top;\n",
       "    }\n",
       "\n",
       "    .dataframe thead th {\n",
       "        text-align: right;\n",
       "    }\n",
       "</style>\n",
       "<table border=\"1\" class=\"dataframe\">\n",
       "  <thead>\n",
       "    <tr style=\"text-align: right;\">\n",
       "      <th></th>\n",
       "      <th>id</th>\n",
       "      <th>keywords</th>\n",
       "    </tr>\n",
       "  </thead>\n",
       "  <tbody>\n",
       "    <tr>\n",
       "      <th>0</th>\n",
       "      <td>862</td>\n",
       "      <td>[{'id': 931, 'name': 'jealousy'}, {'id': 4290,...</td>\n",
       "    </tr>\n",
       "    <tr>\n",
       "      <th>1</th>\n",
       "      <td>8844</td>\n",
       "      <td>[{'id': 10090, 'name': 'board game'}, {'id': 1...</td>\n",
       "    </tr>\n",
       "    <tr>\n",
       "      <th>2</th>\n",
       "      <td>15602</td>\n",
       "      <td>[{'id': 1495, 'name': 'fishing'}, {'id': 12392...</td>\n",
       "    </tr>\n",
       "    <tr>\n",
       "      <th>3</th>\n",
       "      <td>31357</td>\n",
       "      <td>[{'id': 818, 'name': 'based on novel'}, {'id':...</td>\n",
       "    </tr>\n",
       "    <tr>\n",
       "      <th>4</th>\n",
       "      <td>11862</td>\n",
       "      <td>[{'id': 1009, 'name': 'baby'}, {'id': 1599, 'n...</td>\n",
       "    </tr>\n",
       "    <tr>\n",
       "      <th>...</th>\n",
       "      <td>...</td>\n",
       "      <td>...</td>\n",
       "    </tr>\n",
       "    <tr>\n",
       "      <th>46414</th>\n",
       "      <td>439050</td>\n",
       "      <td>[{'id': 10703, 'name': 'tragic love'}]</td>\n",
       "    </tr>\n",
       "    <tr>\n",
       "      <th>46415</th>\n",
       "      <td>111109</td>\n",
       "      <td>[{'id': 2679, 'name': 'artist'}, {'id': 14531,...</td>\n",
       "    </tr>\n",
       "    <tr>\n",
       "      <th>46416</th>\n",
       "      <td>67758</td>\n",
       "      <td>[]</td>\n",
       "    </tr>\n",
       "    <tr>\n",
       "      <th>46417</th>\n",
       "      <td>227506</td>\n",
       "      <td>[]</td>\n",
       "    </tr>\n",
       "    <tr>\n",
       "      <th>46418</th>\n",
       "      <td>461257</td>\n",
       "      <td>[]</td>\n",
       "    </tr>\n",
       "  </tbody>\n",
       "</table>\n",
       "<p>46419 rows × 2 columns</p>\n",
       "</div>"
      ],
      "text/plain": [
       "           id                                           keywords\n",
       "0         862  [{'id': 931, 'name': 'jealousy'}, {'id': 4290,...\n",
       "1        8844  [{'id': 10090, 'name': 'board game'}, {'id': 1...\n",
       "2       15602  [{'id': 1495, 'name': 'fishing'}, {'id': 12392...\n",
       "3       31357  [{'id': 818, 'name': 'based on novel'}, {'id':...\n",
       "4       11862  [{'id': 1009, 'name': 'baby'}, {'id': 1599, 'n...\n",
       "...       ...                                                ...\n",
       "46414  439050             [{'id': 10703, 'name': 'tragic love'}]\n",
       "46415  111109  [{'id': 2679, 'name': 'artist'}, {'id': 14531,...\n",
       "46416   67758                                                 []\n",
       "46417  227506                                                 []\n",
       "46418  461257                                                 []\n",
       "\n",
       "[46419 rows x 2 columns]"
      ]
     },
     "execution_count": 10,
     "metadata": {},
     "output_type": "execute_result"
    }
   ],
   "source": [
    "keywords"
   ]
  },
  {
   "cell_type": "code",
   "execution_count": 11,
   "id": "5bb1300e",
   "metadata": {},
   "outputs": [],
   "source": [
    "keywords['keywords_string'] = ''"
   ]
  },
  {
   "cell_type": "code",
   "execution_count": 12,
   "id": "8538808d",
   "metadata": {},
   "outputs": [
    {
     "data": {
      "text/plain": [
       "<bound method NDFrame.head of            id                                           keywords  \\\n",
       "0         862  [{'id': 931, 'name': 'jealousy'}, {'id': 4290,...   \n",
       "1        8844  [{'id': 10090, 'name': 'board game'}, {'id': 1...   \n",
       "2       15602  [{'id': 1495, 'name': 'fishing'}, {'id': 12392...   \n",
       "3       31357  [{'id': 818, 'name': 'based on novel'}, {'id':...   \n",
       "4       11862  [{'id': 1009, 'name': 'baby'}, {'id': 1599, 'n...   \n",
       "...       ...                                                ...   \n",
       "46414  439050             [{'id': 10703, 'name': 'tragic love'}]   \n",
       "46415  111109  [{'id': 2679, 'name': 'artist'}, {'id': 14531,...   \n",
       "46416   67758                                                 []   \n",
       "46417  227506                                                 []   \n",
       "46418  461257                                                 []   \n",
       "\n",
       "      keywords_string  \n",
       "0                      \n",
       "1                      \n",
       "2                      \n",
       "3                      \n",
       "4                      \n",
       "...               ...  \n",
       "46414                  \n",
       "46415                  \n",
       "46416                  \n",
       "46417                  \n",
       "46418                  \n",
       "\n",
       "[46419 rows x 3 columns]>"
      ]
     },
     "execution_count": 12,
     "metadata": {},
     "output_type": "execute_result"
    }
   ],
   "source": [
    "keywords.head"
   ]
  },
  {
   "cell_type": "code",
   "execution_count": 13,
   "id": "72e6b6bf",
   "metadata": {},
   "outputs": [],
   "source": [
    "for i in range(keywords.shape[0]):\n",
    "    #for i in range(1):\n",
    "    words = ''\n",
    "    json_str = keywords.iloc[i,1]\n",
    "    json_str = json_str.strip('[]')\n",
    "    json_str = json_str.replace('{','')\n",
    "    json_str = json_str.replace('}','')\n",
    "    json_list = json_str.split(',')\n",
    "\n",
    "    for j in json_list[1::2]:\n",
    "        word = j.split(':')[1].strip(' ').strip('\\'')\n",
    "        words += word + ' '\n",
    "    \n",
    "    words = words.strip(' ')\n",
    "    keywords.iloc[i,2] = words"
   ]
  },
  {
   "cell_type": "code",
   "execution_count": 14,
   "id": "4c4d789e",
   "metadata": {},
   "outputs": [],
   "source": [
    "del keywords['keywords']"
   ]
  },
  {
   "cell_type": "code",
   "execution_count": 15,
   "id": "387e8854",
   "metadata": {},
   "outputs": [
    {
     "data": {
      "text/html": [
       "<div>\n",
       "<style scoped>\n",
       "    .dataframe tbody tr th:only-of-type {\n",
       "        vertical-align: middle;\n",
       "    }\n",
       "\n",
       "    .dataframe tbody tr th {\n",
       "        vertical-align: top;\n",
       "    }\n",
       "\n",
       "    .dataframe thead th {\n",
       "        text-align: right;\n",
       "    }\n",
       "</style>\n",
       "<table border=\"1\" class=\"dataframe\">\n",
       "  <thead>\n",
       "    <tr style=\"text-align: right;\">\n",
       "      <th></th>\n",
       "      <th>id</th>\n",
       "      <th>keywords_string</th>\n",
       "    </tr>\n",
       "  </thead>\n",
       "  <tbody>\n",
       "    <tr>\n",
       "      <th>0</th>\n",
       "      <td>862</td>\n",
       "      <td>jealousy toy boy friendship friends rivalry bo...</td>\n",
       "    </tr>\n",
       "    <tr>\n",
       "      <th>1</th>\n",
       "      <td>8844</td>\n",
       "      <td>board game disappearance \"based on children's ...</td>\n",
       "    </tr>\n",
       "    <tr>\n",
       "      <th>2</th>\n",
       "      <td>15602</td>\n",
       "      <td>fishing best friend duringcreditsstinger old men</td>\n",
       "    </tr>\n",
       "    <tr>\n",
       "      <th>3</th>\n",
       "      <td>31357</td>\n",
       "      <td>based on novel interracial relationship single...</td>\n",
       "    </tr>\n",
       "    <tr>\n",
       "      <th>4</th>\n",
       "      <td>11862</td>\n",
       "      <td>baby midlife crisis confidence aging daughter ...</td>\n",
       "    </tr>\n",
       "    <tr>\n",
       "      <th>...</th>\n",
       "      <td>...</td>\n",
       "      <td>...</td>\n",
       "    </tr>\n",
       "    <tr>\n",
       "      <th>46414</th>\n",
       "      <td>439050</td>\n",
       "      <td>tragic love</td>\n",
       "    </tr>\n",
       "    <tr>\n",
       "      <th>46415</th>\n",
       "      <td>111109</td>\n",
       "      <td>artist play pinoy</td>\n",
       "    </tr>\n",
       "    <tr>\n",
       "      <th>46416</th>\n",
       "      <td>67758</td>\n",
       "      <td></td>\n",
       "    </tr>\n",
       "    <tr>\n",
       "      <th>46417</th>\n",
       "      <td>227506</td>\n",
       "      <td></td>\n",
       "    </tr>\n",
       "    <tr>\n",
       "      <th>46418</th>\n",
       "      <td>461257</td>\n",
       "      <td></td>\n",
       "    </tr>\n",
       "  </tbody>\n",
       "</table>\n",
       "<p>46419 rows × 2 columns</p>\n",
       "</div>"
      ],
      "text/plain": [
       "           id                                    keywords_string\n",
       "0         862  jealousy toy boy friendship friends rivalry bo...\n",
       "1        8844  board game disappearance \"based on children's ...\n",
       "2       15602   fishing best friend duringcreditsstinger old men\n",
       "3       31357  based on novel interracial relationship single...\n",
       "4       11862  baby midlife crisis confidence aging daughter ...\n",
       "...       ...                                                ...\n",
       "46414  439050                                        tragic love\n",
       "46415  111109                                  artist play pinoy\n",
       "46416   67758                                                   \n",
       "46417  227506                                                   \n",
       "46418  461257                                                   \n",
       "\n",
       "[46419 rows x 2 columns]"
      ]
     },
     "execution_count": 15,
     "metadata": {},
     "output_type": "execute_result"
    }
   ],
   "source": [
    "keywords"
   ]
  },
  {
   "cell_type": "code",
   "execution_count": 16,
   "id": "e9dd650c",
   "metadata": {},
   "outputs": [
    {
     "data": {
      "text/plain": [
       "id                  int64\n",
       "keywords_string    object\n",
       "dtype: object"
      ]
     },
     "execution_count": 16,
     "metadata": {},
     "output_type": "execute_result"
    }
   ],
   "source": [
    "keywords.dtypes"
   ]
  },
  {
   "cell_type": "markdown",
   "id": "53a19a4c",
   "metadata": {},
   "source": [
    "### Concat Data"
   ]
  },
  {
   "cell_type": "code",
   "execution_count": 17,
   "id": "537dfba6",
   "metadata": {},
   "outputs": [],
   "source": [
    "keywords['id'] = keywords['id'].astype(str)"
   ]
  },
  {
   "cell_type": "code",
   "execution_count": 18,
   "id": "532ffe36",
   "metadata": {},
   "outputs": [
    {
     "data": {
      "text/plain": [
       "id                 object\n",
       "keywords_string    object\n",
       "dtype: object"
      ]
     },
     "execution_count": 18,
     "metadata": {},
     "output_type": "execute_result"
    }
   ],
   "source": [
    "keywords.dtypes"
   ]
  },
  {
   "cell_type": "code",
   "execution_count": 46,
   "id": "1a9f23c6",
   "metadata": {},
   "outputs": [],
   "source": [
    "movie_data = pd.merge(input_data, keywords, on='id')"
   ]
  },
  {
   "cell_type": "code",
   "execution_count": 47,
   "id": "a6b4403d",
   "metadata": {},
   "outputs": [],
   "source": [
    "nan_value = float(\"NaN\")\n",
    "movie_data.replace(\"\", nan_value, inplace=True)\n",
    "movie_data.dropna(subset = [\"title\", \"genre\", \"keywords_string\"], inplace=True)"
   ]
  },
  {
   "cell_type": "code",
   "execution_count": 48,
   "id": "12a0e8d0",
   "metadata": {},
   "outputs": [
    {
     "data": {
      "text/html": [
       "<div>\n",
       "<style scoped>\n",
       "    .dataframe tbody tr th:only-of-type {\n",
       "        vertical-align: middle;\n",
       "    }\n",
       "\n",
       "    .dataframe tbody tr th {\n",
       "        vertical-align: top;\n",
       "    }\n",
       "\n",
       "    .dataframe thead th {\n",
       "        text-align: right;\n",
       "    }\n",
       "</style>\n",
       "<table border=\"1\" class=\"dataframe\">\n",
       "  <thead>\n",
       "    <tr style=\"text-align: right;\">\n",
       "      <th></th>\n",
       "      <th>id</th>\n",
       "      <th>title</th>\n",
       "      <th>genre</th>\n",
       "      <th>keywords_string</th>\n",
       "    </tr>\n",
       "  </thead>\n",
       "  <tbody>\n",
       "    <tr>\n",
       "      <th>0</th>\n",
       "      <td>862</td>\n",
       "      <td>Toy Story</td>\n",
       "      <td>Animation</td>\n",
       "      <td>jealousy toy boy friendship friends rivalry bo...</td>\n",
       "    </tr>\n",
       "    <tr>\n",
       "      <th>1</th>\n",
       "      <td>8844</td>\n",
       "      <td>Jumanji</td>\n",
       "      <td>Adventure</td>\n",
       "      <td>board game disappearance \"based on children's ...</td>\n",
       "    </tr>\n",
       "    <tr>\n",
       "      <th>2</th>\n",
       "      <td>15602</td>\n",
       "      <td>Grumpier Old Men</td>\n",
       "      <td>Romance</td>\n",
       "      <td>fishing best friend duringcreditsstinger old men</td>\n",
       "    </tr>\n",
       "    <tr>\n",
       "      <th>3</th>\n",
       "      <td>31357</td>\n",
       "      <td>Waiting to Exhale</td>\n",
       "      <td>Comedy</td>\n",
       "      <td>based on novel interracial relationship single...</td>\n",
       "    </tr>\n",
       "    <tr>\n",
       "      <th>4</th>\n",
       "      <td>11862</td>\n",
       "      <td>Father of the Bride Part II</td>\n",
       "      <td>Comedy</td>\n",
       "      <td>baby midlife crisis confidence aging daughter ...</td>\n",
       "    </tr>\n",
       "    <tr>\n",
       "      <th>...</th>\n",
       "      <td>...</td>\n",
       "      <td>...</td>\n",
       "      <td>...</td>\n",
       "      <td>...</td>\n",
       "    </tr>\n",
       "    <tr>\n",
       "      <th>46472</th>\n",
       "      <td>84419</td>\n",
       "      <td>House of Horrors</td>\n",
       "      <td>Horror</td>\n",
       "      <td>revenge murder serial killer new york city scu...</td>\n",
       "    </tr>\n",
       "    <tr>\n",
       "      <th>46473</th>\n",
       "      <td>390959</td>\n",
       "      <td>Shadow of the Blair Witch</td>\n",
       "      <td>Mystery</td>\n",
       "      <td>blair witch</td>\n",
       "    </tr>\n",
       "    <tr>\n",
       "      <th>46474</th>\n",
       "      <td>289923</td>\n",
       "      <td>The Burkittsville 7</td>\n",
       "      <td>Horror</td>\n",
       "      <td>witch mythology legend serial killer mockumentary</td>\n",
       "    </tr>\n",
       "    <tr>\n",
       "      <th>46477</th>\n",
       "      <td>439050</td>\n",
       "      <td>Subdue</td>\n",
       "      <td>Drama</td>\n",
       "      <td>tragic love</td>\n",
       "    </tr>\n",
       "    <tr>\n",
       "      <th>46478</th>\n",
       "      <td>111109</td>\n",
       "      <td>Century of Birthing</td>\n",
       "      <td>Drama</td>\n",
       "      <td>artist play pinoy</td>\n",
       "    </tr>\n",
       "  </tbody>\n",
       "</table>\n",
       "<p>31656 rows × 4 columns</p>\n",
       "</div>"
      ],
      "text/plain": [
       "           id                        title      genre  \\\n",
       "0         862                    Toy Story  Animation   \n",
       "1        8844                      Jumanji  Adventure   \n",
       "2       15602             Grumpier Old Men    Romance   \n",
       "3       31357            Waiting to Exhale     Comedy   \n",
       "4       11862  Father of the Bride Part II     Comedy   \n",
       "...       ...                          ...        ...   \n",
       "46472   84419             House of Horrors     Horror   \n",
       "46473  390959    Shadow of the Blair Witch    Mystery   \n",
       "46474  289923          The Burkittsville 7     Horror   \n",
       "46477  439050                       Subdue      Drama   \n",
       "46478  111109          Century of Birthing      Drama   \n",
       "\n",
       "                                         keywords_string  \n",
       "0      jealousy toy boy friendship friends rivalry bo...  \n",
       "1      board game disappearance \"based on children's ...  \n",
       "2       fishing best friend duringcreditsstinger old men  \n",
       "3      based on novel interracial relationship single...  \n",
       "4      baby midlife crisis confidence aging daughter ...  \n",
       "...                                                  ...  \n",
       "46472  revenge murder serial killer new york city scu...  \n",
       "46473                                        blair witch  \n",
       "46474  witch mythology legend serial killer mockumentary  \n",
       "46477                                        tragic love  \n",
       "46478                                  artist play pinoy  \n",
       "\n",
       "[31656 rows x 4 columns]"
      ]
     },
     "execution_count": 48,
     "metadata": {},
     "output_type": "execute_result"
    }
   ],
   "source": [
    "movie_data"
   ]
  },
  {
   "cell_type": "markdown",
   "id": "780a994d",
   "metadata": {},
   "source": [
    "### Create Test Data"
   ]
  },
  {
   "cell_type": "code",
   "execution_count": 21,
   "id": "cd27a9e6",
   "metadata": {},
   "outputs": [],
   "source": [
    "movie_data = movie_data.sample(frac=1).reset_index(drop=True)"
   ]
  },
  {
   "cell_type": "code",
   "execution_count": 22,
   "id": "ccf3d8f3",
   "metadata": {},
   "outputs": [],
   "source": [
    "#movie_data, test_movie_data = movie_data.iloc[:30656,:], movie_data.iloc[30656:,:]"
   ]
  },
  {
   "cell_type": "code",
   "execution_count": 24,
   "id": "4d92f6c4",
   "metadata": {},
   "outputs": [],
   "source": [
    "#test_movie_data.to_csv('movie_data_test.csv')"
   ]
  },
  {
   "cell_type": "markdown",
   "id": "da6da531",
   "metadata": {},
   "source": [
    "### Create Input Strings"
   ]
  },
  {
   "cell_type": "code",
   "execution_count": 25,
   "id": "dcae18a1",
   "metadata": {},
   "outputs": [],
   "source": [
    "movie_data['input'] = movie_data['title'] + ' keywords ' + movie_data['keywords_string']"
   ]
  },
  {
   "cell_type": "code",
   "execution_count": 26,
   "id": "a93440a7",
   "metadata": {},
   "outputs": [],
   "source": [
    "movie_data.drop(labels=['title', 'keywords_string', 'id'], axis=1, inplace=True)"
   ]
  },
  {
   "cell_type": "markdown",
   "id": "589129d0",
   "metadata": {},
   "source": [
    " ### Preprocessing"
   ]
  },
  {
   "cell_type": "code",
   "execution_count": 27,
   "id": "34d8edc0",
   "metadata": {},
   "outputs": [],
   "source": [
    "stop_words = set(stopwords.words(\"english\"))\n",
    "lemmatizer = WordNetLemmatizer()"
   ]
  },
  {
   "cell_type": "code",
   "execution_count": 28,
   "id": "b29da236",
   "metadata": {},
   "outputs": [],
   "source": [
    "def clean_text(text):\n",
    "    text = text.lower()\n",
    "    text = [lemmatizer.lemmatize(token) for token in text.split(\" \")]\n",
    "    text = [word for word in text if  not word in stop_words]\n",
    "    text = \" \".join(text)\n",
    "    return text"
   ]
  },
  {
   "cell_type": "code",
   "execution_count": 29,
   "id": "87a704dd",
   "metadata": {},
   "outputs": [],
   "source": [
    "movie_data['Processed_input'] = movie_data.input.apply(lambda x: clean_text(x))"
   ]
  },
  {
   "cell_type": "code",
   "execution_count": 30,
   "id": "33a3c2cd",
   "metadata": {},
   "outputs": [],
   "source": [
    "X = movie_data['Processed_input']"
   ]
  },
  {
   "cell_type": "code",
   "execution_count": 31,
   "id": "cb8d6638",
   "metadata": {},
   "outputs": [
    {
     "data": {
      "text/plain": [
       "19"
      ]
     },
     "execution_count": 31,
     "metadata": {},
     "output_type": "execute_result"
    }
   ],
   "source": [
    "Y = movie_data['genre']\n",
    "le = preprocessing.LabelEncoder()\n",
    "le.fit(movie_data['genre'])\n",
    "Y = le.transform(movie_data['genre'])\n",
    "max(Y)"
   ]
  },
  {
   "cell_type": "code",
   "execution_count": 32,
   "id": "a1a628ea",
   "metadata": {},
   "outputs": [],
   "source": [
    "with open('Label_encoder.pickle', 'wb') as handle:\n",
    "    pickle.dump(le, handle, protocol=pickle.HIGHEST_PROTOCOL)"
   ]
  },
  {
   "cell_type": "code",
   "execution_count": 33,
   "id": "7e670e96",
   "metadata": {},
   "outputs": [],
   "source": [
    "tokenizer = Tokenizer()\n",
    "tokenizer.fit_on_texts(movie_data['Processed_input'])\n",
    "encoded_docs = tokenizer.texts_to_sequences(movie_data['Processed_input'])"
   ]
  },
  {
   "cell_type": "code",
   "execution_count": 34,
   "id": "cafc4539",
   "metadata": {},
   "outputs": [],
   "source": [
    "# saving\n",
    "with open('tokenizer.pickle', 'wb') as handle:\n",
    "    pickle.dump(tokenizer, handle, protocol=pickle.HIGHEST_PROTOCOL)"
   ]
  },
  {
   "cell_type": "code",
   "execution_count": 35,
   "id": "2e437a43",
   "metadata": {},
   "outputs": [
    {
     "name": "stdout",
     "output_type": "stream",
     "text": [
      "193\n"
     ]
    }
   ],
   "source": [
    "# pad sequences\n",
    "max_length = max([len(s.split()) for s in movie_data['Processed_input']])\n",
    "X = pad_sequences(encoded_docs, maxlen=max_length, padding='post')\n",
    "print(max_length)"
   ]
  },
  {
   "cell_type": "markdown",
   "id": "1920b374",
   "metadata": {},
   "source": [
    "### Split Data"
   ]
  },
  {
   "cell_type": "code",
   "execution_count": 36,
   "id": "7c6a29a9",
   "metadata": {},
   "outputs": [],
   "source": [
    "X_train, X_val = X[:29656,:], X[29656:,:]"
   ]
  },
  {
   "cell_type": "code",
   "execution_count": 37,
   "id": "62d8de15",
   "metadata": {},
   "outputs": [],
   "source": [
    "Y_train, Y_val = Y[:29656], Y[29656:]"
   ]
  },
  {
   "cell_type": "markdown",
   "id": "813c89c8",
   "metadata": {},
   "source": [
    "### Build Neural Net"
   ]
  },
  {
   "cell_type": "code",
   "execution_count": 38,
   "id": "8a4d9d49",
   "metadata": {},
   "outputs": [],
   "source": [
    "embeddings_dict = {}\n",
    "with open(\"glove.6B.200d.txt\", 'r') as f:\n",
    "    for line in f:\n",
    "        values = line.split()\n",
    "        word = values[0]\n",
    "        vector = np.asarray(values[1:], \"float32\")\n",
    "        embeddings_dict[word] = vector"
   ]
  },
  {
   "cell_type": "code",
   "execution_count": 39,
   "id": "afffb53d",
   "metadata": {},
   "outputs": [],
   "source": [
    "vocab_size = len(tokenizer.word_index) + 1"
   ]
  },
  {
   "cell_type": "code",
   "execution_count": 40,
   "id": "8a18df3c",
   "metadata": {},
   "outputs": [],
   "source": [
    "embedding_matrix = np.zeros((vocab_size, 200))\n",
    "for word, i in tokenizer.word_index.items():\n",
    "    embedding_vector = embeddings_dict.get(word)\n",
    "    if embedding_vector is not None:\n",
    "        embedding_matrix[i] = embedding_vector"
   ]
  },
  {
   "cell_type": "code",
   "execution_count": 41,
   "id": "678da352",
   "metadata": {},
   "outputs": [],
   "source": [
    "model = Sequential()\n",
    "model.add(layers.Embedding(input_dim=vocab_size, \n",
    "                           output_dim=200,\n",
    "                           weights = [embedding_matrix],\n",
    "                           input_length=max_length,\n",
    "                           trainable=True))\n",
    "#model.add(layers.Conv1D(filters=256, kernel_size=3, activation='relu'))\n",
    "#model.add(layers.Conv1D(filters=64, kernel_size=3, activation='relu'))\n",
    "model.add(layers.Flatten())\n",
    "model.add(layers.Dense(20, activation='sigmoid'))"
   ]
  },
  {
   "cell_type": "code",
   "execution_count": 42,
   "id": "d8fa24fa",
   "metadata": {},
   "outputs": [],
   "source": [
    "# compile network\n",
    "model.compile(loss=tf.keras.losses.SparseCategoricalCrossentropy(), optimizer='adam', metrics=['accuracy'])"
   ]
  },
  {
   "cell_type": "code",
   "execution_count": 43,
   "id": "c4ad8707",
   "metadata": {},
   "outputs": [
    {
     "name": "stdout",
     "output_type": "stream",
     "text": [
      "Model: \"sequential\"\n",
      "_________________________________________________________________\n",
      "Layer (type)                 Output Shape              Param #   \n",
      "=================================================================\n",
      "embedding (Embedding)        (None, 193, 200)          4449200   \n",
      "_________________________________________________________________\n",
      "flatten (Flatten)            (None, 38600)             0         \n",
      "_________________________________________________________________\n",
      "dense (Dense)                (None, 20)                772020    \n",
      "=================================================================\n",
      "Total params: 5,221,220\n",
      "Trainable params: 5,221,220\n",
      "Non-trainable params: 0\n",
      "_________________________________________________________________\n"
     ]
    }
   ],
   "source": [
    "model.summary()"
   ]
  },
  {
   "cell_type": "code",
   "execution_count": 44,
   "id": "09d9283e",
   "metadata": {},
   "outputs": [
    {
     "name": "stdout",
     "output_type": "stream",
     "text": [
      "224/224 - 17s - loss: 2.1986 - accuracy: 0.2948\n",
      "63/63 [==============================] - 0s 5ms/step - loss: 1.9228 - accuracy: 0.3820\n",
      "224/224 - 16s - loss: 1.6548 - accuracy: 0.4717\n",
      "63/63 [==============================] - 0s 5ms/step - loss: 1.7514 - accuracy: 0.4595\n",
      "224/224 - 16s - loss: 1.1896 - accuracy: 0.6341\n",
      "63/63 [==============================] - 0s 5ms/step - loss: 1.7760 - accuracy: 0.4515\n",
      "224/224 - 16s - loss: 0.7925 - accuracy: 0.7684\n",
      "63/63 [==============================] - 0s 5ms/step - loss: 1.8862 - accuracy: 0.4455\n",
      "224/224 - 16s - loss: 0.5197 - accuracy: 0.8568\n",
      "63/63 [==============================] - 0s 5ms/step - loss: 2.0077 - accuracy: 0.4465\n"
     ]
    }
   ],
   "source": [
    "# Train model with early stopping and save best model\n",
    "past_accuracy = 0\n",
    "session = 0\n",
    "while True:\n",
    "    model.fit(X_train, Y_train, batch_size=128, epochs=1, verbose=2)\n",
    "    loss, accuracy = model.evaluate(X_val, Y_val)\n",
    "    if past_accuracy < accuracy:\n",
    "        past_accuracy = accuracy\n",
    "        model_save = model\n",
    "    else:\n",
    "        session += 1\n",
    "        if session == 3:\n",
    "            break"
   ]
  },
  {
   "cell_type": "code",
   "execution_count": 45,
   "id": "d2305a2f",
   "metadata": {},
   "outputs": [
    {
     "name": "stdout",
     "output_type": "stream",
     "text": [
      "WARNING:tensorflow:From C:\\Users\\kenne\\miniconda3\\envs\\hoMachineLearning\\lib\\site-packages\\tensorflow\\python\\training\\tracking\\tracking.py:111: Model.state_updates (from tensorflow.python.keras.engine.training) is deprecated and will be removed in a future version.\n",
      "Instructions for updating:\n",
      "This property should not be used in TensorFlow 2.0, as updates are applied automatically.\n",
      "WARNING:tensorflow:From C:\\Users\\kenne\\miniconda3\\envs\\hoMachineLearning\\lib\\site-packages\\tensorflow\\python\\training\\tracking\\tracking.py:111: Layer.updates (from tensorflow.python.keras.engine.base_layer) is deprecated and will be removed in a future version.\n",
      "Instructions for updating:\n",
      "This property should not be used in TensorFlow 2.0, as updates are applied automatically.\n",
      "INFO:tensorflow:Assets written to: C:\\Users\\kenne\\Documents\\hoMachineLearning\\TrueLayer\\Training\\movie_genre_model\\assets\n"
     ]
    }
   ],
   "source": [
    "model_save.save(os.getcwd() + '\\movie_genre_model')"
   ]
  }
 ],
 "metadata": {
  "kernelspec": {
   "display_name": "Python 3",
   "language": "python",
   "name": "python3"
  },
  "language_info": {
   "codemirror_mode": {
    "name": "ipython",
    "version": 3
   },
   "file_extension": ".py",
   "mimetype": "text/x-python",
   "name": "python",
   "nbconvert_exporter": "python",
   "pygments_lexer": "ipython3",
   "version": "3.9.1"
  }
 },
 "nbformat": 4,
 "nbformat_minor": 5
}
