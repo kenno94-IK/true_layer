{
 "cells": [
  {
   "cell_type": "code",
   "execution_count": 1,
   "id": "3d09d56a",
   "metadata": {},
   "outputs": [
    {
     "name": "stderr",
     "output_type": "stream",
     "text": [
      "[nltk_data] Downloading package stopwords to\n",
      "[nltk_data]     C:\\Users\\kenne\\AppData\\Roaming\\nltk_data...\n",
      "[nltk_data]   Package stopwords is already up-to-date!\n",
      "[nltk_data] Downloading package wordnet to\n",
      "[nltk_data]     C:\\Users\\kenne\\AppData\\Roaming\\nltk_data...\n",
      "[nltk_data]   Package wordnet is already up-to-date!\n"
     ]
    },
    {
     "data": {
      "text/plain": [
       "True"
      ]
     },
     "execution_count": 1,
     "metadata": {},
     "output_type": "execute_result"
    }
   ],
   "source": [
    "import numpy as np\n",
    "import matplotlib.pyplot as plt\n",
    "import os\n",
    "import numpy as np\n",
    "import io\n",
    "import pandas as pd\n",
    "import json\n",
    "import nltk\n",
    "from nltk.corpus import stopwords\n",
    "from nltk.stem import WordNetLemmatizer\n",
    "import tensorflow as tf\n",
    "from tensorflow.keras.preprocessing.text import Tokenizer\n",
    "from tensorflow.keras.preprocessing.sequence import pad_sequences\n",
    "from tensorflow.keras import Sequential\n",
    "from tensorflow.keras import layers\n",
    "from tensorflow.keras.layers import Embedding, Dense, Conv1D, MaxPooling1D, Flatten\n",
    "from sklearn import preprocessing\n",
    "import pickle\n",
    "nltk.download('stopwords')\n",
    "nltk.download('wordnet')"
   ]
  },
  {
   "cell_type": "markdown",
   "id": "6e22a001",
   "metadata": {},
   "source": [
    "### Import Metadata CSV"
   ]
  },
  {
   "cell_type": "code",
   "execution_count": 2,
   "id": "12e8c768",
   "metadata": {},
   "outputs": [
    {
     "name": "stderr",
     "output_type": "stream",
     "text": [
      "C:\\Users\\kenne\\miniconda3\\envs\\hoMachineLearning\\lib\\site-packages\\IPython\\core\\interactiveshell.py:3165: DtypeWarning: Columns (10) have mixed types.Specify dtype option on import or set low_memory=False.\n",
      "  has_raised = await self.run_ast_nodes(code_ast.body, cell_name,\n"
     ]
    }
   ],
   "source": [
    "metadata = pd.read_csv(os.getcwd() + '\\movies_metadata.csv')"
   ]
  },
  {
   "cell_type": "code",
   "execution_count": 3,
   "id": "18fa8037",
   "metadata": {},
   "outputs": [
    {
     "data": {
      "text/plain": [
       "Index(['adult', 'belongs_to_collection', 'budget', 'genres', 'homepage', 'id',\n",
       "       'imdb_id', 'original_language', 'original_title', 'overview',\n",
       "       'popularity', 'poster_path', 'production_companies',\n",
       "       'production_countries', 'release_date', 'revenue', 'runtime',\n",
       "       'spoken_languages', 'status', 'tagline', 'title', 'video',\n",
       "       'vote_average', 'vote_count'],\n",
       "      dtype='object')"
      ]
     },
     "execution_count": 3,
     "metadata": {},
     "output_type": "execute_result"
    }
   ],
   "source": [
    "metadata.columns"
   ]
  },
  {
   "cell_type": "code",
   "execution_count": 4,
   "id": "02f6a626",
   "metadata": {},
   "outputs": [],
   "source": [
    "input_data = pd.DataFrame()\n",
    "input_data['id'] = metadata['id'].copy()\n",
    "input_data['title'] = metadata['title'].copy()\n",
    "input_data['genres'] = metadata['genres'].copy()"
   ]
  },
  {
   "cell_type": "code",
   "execution_count": 5,
   "id": "c9e3d2a4",
   "metadata": {},
   "outputs": [
    {
     "data": {
      "text/html": [
       "<div>\n",
       "<style scoped>\n",
       "    .dataframe tbody tr th:only-of-type {\n",
       "        vertical-align: middle;\n",
       "    }\n",
       "\n",
       "    .dataframe tbody tr th {\n",
       "        vertical-align: top;\n",
       "    }\n",
       "\n",
       "    .dataframe thead th {\n",
       "        text-align: right;\n",
       "    }\n",
       "</style>\n",
       "<table border=\"1\" class=\"dataframe\">\n",
       "  <thead>\n",
       "    <tr style=\"text-align: right;\">\n",
       "      <th></th>\n",
       "      <th>id</th>\n",
       "      <th>title</th>\n",
       "      <th>genres</th>\n",
       "      <th>genre</th>\n",
       "    </tr>\n",
       "  </thead>\n",
       "  <tbody>\n",
       "    <tr>\n",
       "      <th>0</th>\n",
       "      <td>862</td>\n",
       "      <td>Toy Story</td>\n",
       "      <td>[{'id': 16, 'name': 'Animation'}, {'id': 35, '...</td>\n",
       "      <td></td>\n",
       "    </tr>\n",
       "    <tr>\n",
       "      <th>1</th>\n",
       "      <td>8844</td>\n",
       "      <td>Jumanji</td>\n",
       "      <td>[{'id': 12, 'name': 'Adventure'}, {'id': 14, '...</td>\n",
       "      <td></td>\n",
       "    </tr>\n",
       "    <tr>\n",
       "      <th>2</th>\n",
       "      <td>15602</td>\n",
       "      <td>Grumpier Old Men</td>\n",
       "      <td>[{'id': 10749, 'name': 'Romance'}, {'id': 35, ...</td>\n",
       "      <td></td>\n",
       "    </tr>\n",
       "    <tr>\n",
       "      <th>3</th>\n",
       "      <td>31357</td>\n",
       "      <td>Waiting to Exhale</td>\n",
       "      <td>[{'id': 35, 'name': 'Comedy'}, {'id': 18, 'nam...</td>\n",
       "      <td></td>\n",
       "    </tr>\n",
       "    <tr>\n",
       "      <th>4</th>\n",
       "      <td>11862</td>\n",
       "      <td>Father of the Bride Part II</td>\n",
       "      <td>[{'id': 35, 'name': 'Comedy'}]</td>\n",
       "      <td></td>\n",
       "    </tr>\n",
       "    <tr>\n",
       "      <th>...</th>\n",
       "      <td>...</td>\n",
       "      <td>...</td>\n",
       "      <td>...</td>\n",
       "      <td>...</td>\n",
       "    </tr>\n",
       "    <tr>\n",
       "      <th>45461</th>\n",
       "      <td>439050</td>\n",
       "      <td>Subdue</td>\n",
       "      <td>[{'id': 18, 'name': 'Drama'}, {'id': 10751, 'n...</td>\n",
       "      <td></td>\n",
       "    </tr>\n",
       "    <tr>\n",
       "      <th>45462</th>\n",
       "      <td>111109</td>\n",
       "      <td>Century of Birthing</td>\n",
       "      <td>[{'id': 18, 'name': 'Drama'}]</td>\n",
       "      <td></td>\n",
       "    </tr>\n",
       "    <tr>\n",
       "      <th>45463</th>\n",
       "      <td>67758</td>\n",
       "      <td>Betrayal</td>\n",
       "      <td>[{'id': 28, 'name': 'Action'}, {'id': 18, 'nam...</td>\n",
       "      <td></td>\n",
       "    </tr>\n",
       "    <tr>\n",
       "      <th>45464</th>\n",
       "      <td>227506</td>\n",
       "      <td>Satan Triumphant</td>\n",
       "      <td>[]</td>\n",
       "      <td></td>\n",
       "    </tr>\n",
       "    <tr>\n",
       "      <th>45465</th>\n",
       "      <td>461257</td>\n",
       "      <td>Queerama</td>\n",
       "      <td>[]</td>\n",
       "      <td></td>\n",
       "    </tr>\n",
       "  </tbody>\n",
       "</table>\n",
       "<p>45466 rows × 4 columns</p>\n",
       "</div>"
      ],
      "text/plain": [
       "           id                        title  \\\n",
       "0         862                    Toy Story   \n",
       "1        8844                      Jumanji   \n",
       "2       15602             Grumpier Old Men   \n",
       "3       31357            Waiting to Exhale   \n",
       "4       11862  Father of the Bride Part II   \n",
       "...       ...                          ...   \n",
       "45461  439050                       Subdue   \n",
       "45462  111109          Century of Birthing   \n",
       "45463   67758                     Betrayal   \n",
       "45464  227506             Satan Triumphant   \n",
       "45465  461257                     Queerama   \n",
       "\n",
       "                                                  genres genre  \n",
       "0      [{'id': 16, 'name': 'Animation'}, {'id': 35, '...        \n",
       "1      [{'id': 12, 'name': 'Adventure'}, {'id': 14, '...        \n",
       "2      [{'id': 10749, 'name': 'Romance'}, {'id': 35, ...        \n",
       "3      [{'id': 35, 'name': 'Comedy'}, {'id': 18, 'nam...        \n",
       "4                         [{'id': 35, 'name': 'Comedy'}]        \n",
       "...                                                  ...   ...  \n",
       "45461  [{'id': 18, 'name': 'Drama'}, {'id': 10751, 'n...        \n",
       "45462                      [{'id': 18, 'name': 'Drama'}]        \n",
       "45463  [{'id': 28, 'name': 'Action'}, {'id': 18, 'nam...        \n",
       "45464                                                 []        \n",
       "45465                                                 []        \n",
       "\n",
       "[45466 rows x 4 columns]"
      ]
     },
     "execution_count": 5,
     "metadata": {},
     "output_type": "execute_result"
    }
   ],
   "source": [
    "input_data['genre'] = ''\n",
    "input_data"
   ]
  },
  {
   "cell_type": "code",
   "execution_count": 6,
   "id": "dc692f14",
   "metadata": {},
   "outputs": [],
   "source": [
    "### Just take first word\n",
    "for i in range(input_data.shape[0]):\n",
    "    \n",
    "    json_str = input_data.iloc[i,2]\n",
    "    json_str = json_str.strip('[]')\n",
    "    json_str = json_str.replace('{','')\n",
    "    json_str = json_str.replace('}','')\n",
    "    json_list = json_str.split(',')\n",
    "    for j in json_list[1:3:2]:\n",
    "        word = j.split(':')[1].strip(' ').strip('\\'')\n",
    "    \n",
    "    #words = word.strip(' ')\n",
    "    input_data.iloc[i,3] = word"
   ]
  },
  {
   "cell_type": "code",
   "execution_count": 7,
   "id": "15c2811b",
   "metadata": {},
   "outputs": [
    {
     "data": {
      "text/html": [
       "<div>\n",
       "<style scoped>\n",
       "    .dataframe tbody tr th:only-of-type {\n",
       "        vertical-align: middle;\n",
       "    }\n",
       "\n",
       "    .dataframe tbody tr th {\n",
       "        vertical-align: top;\n",
       "    }\n",
       "\n",
       "    .dataframe thead th {\n",
       "        text-align: right;\n",
       "    }\n",
       "</style>\n",
       "<table border=\"1\" class=\"dataframe\">\n",
       "  <thead>\n",
       "    <tr style=\"text-align: right;\">\n",
       "      <th></th>\n",
       "      <th>id</th>\n",
       "      <th>title</th>\n",
       "      <th>genre</th>\n",
       "    </tr>\n",
       "  </thead>\n",
       "  <tbody>\n",
       "    <tr>\n",
       "      <th>0</th>\n",
       "      <td>862</td>\n",
       "      <td>Toy Story</td>\n",
       "      <td>Animation</td>\n",
       "    </tr>\n",
       "    <tr>\n",
       "      <th>1</th>\n",
       "      <td>8844</td>\n",
       "      <td>Jumanji</td>\n",
       "      <td>Adventure</td>\n",
       "    </tr>\n",
       "    <tr>\n",
       "      <th>2</th>\n",
       "      <td>15602</td>\n",
       "      <td>Grumpier Old Men</td>\n",
       "      <td>Romance</td>\n",
       "    </tr>\n",
       "    <tr>\n",
       "      <th>3</th>\n",
       "      <td>31357</td>\n",
       "      <td>Waiting to Exhale</td>\n",
       "      <td>Comedy</td>\n",
       "    </tr>\n",
       "    <tr>\n",
       "      <th>4</th>\n",
       "      <td>11862</td>\n",
       "      <td>Father of the Bride Part II</td>\n",
       "      <td>Comedy</td>\n",
       "    </tr>\n",
       "    <tr>\n",
       "      <th>...</th>\n",
       "      <td>...</td>\n",
       "      <td>...</td>\n",
       "      <td>...</td>\n",
       "    </tr>\n",
       "    <tr>\n",
       "      <th>45461</th>\n",
       "      <td>439050</td>\n",
       "      <td>Subdue</td>\n",
       "      <td>Drama</td>\n",
       "    </tr>\n",
       "    <tr>\n",
       "      <th>45462</th>\n",
       "      <td>111109</td>\n",
       "      <td>Century of Birthing</td>\n",
       "      <td>Drama</td>\n",
       "    </tr>\n",
       "    <tr>\n",
       "      <th>45463</th>\n",
       "      <td>67758</td>\n",
       "      <td>Betrayal</td>\n",
       "      <td>Action</td>\n",
       "    </tr>\n",
       "    <tr>\n",
       "      <th>45464</th>\n",
       "      <td>227506</td>\n",
       "      <td>Satan Triumphant</td>\n",
       "      <td>Action</td>\n",
       "    </tr>\n",
       "    <tr>\n",
       "      <th>45465</th>\n",
       "      <td>461257</td>\n",
       "      <td>Queerama</td>\n",
       "      <td>Action</td>\n",
       "    </tr>\n",
       "  </tbody>\n",
       "</table>\n",
       "<p>45466 rows × 3 columns</p>\n",
       "</div>"
      ],
      "text/plain": [
       "           id                        title      genre\n",
       "0         862                    Toy Story  Animation\n",
       "1        8844                      Jumanji  Adventure\n",
       "2       15602             Grumpier Old Men    Romance\n",
       "3       31357            Waiting to Exhale     Comedy\n",
       "4       11862  Father of the Bride Part II     Comedy\n",
       "...       ...                          ...        ...\n",
       "45461  439050                       Subdue      Drama\n",
       "45462  111109          Century of Birthing      Drama\n",
       "45463   67758                     Betrayal     Action\n",
       "45464  227506             Satan Triumphant     Action\n",
       "45465  461257                     Queerama     Action\n",
       "\n",
       "[45466 rows x 3 columns]"
      ]
     },
     "execution_count": 7,
     "metadata": {},
     "output_type": "execute_result"
    }
   ],
   "source": [
    "del input_data['genres']\n",
    "input_data"
   ]
  },
  {
   "cell_type": "markdown",
   "id": "1f6f1315",
   "metadata": {},
   "source": [
    "### Import Keywords CSV"
   ]
  },
  {
   "cell_type": "code",
   "execution_count": 8,
   "id": "7501a728",
   "metadata": {},
   "outputs": [],
   "source": [
    "keywords = pd.read_csv(os.getcwd() + '\\keywords.csv')"
   ]
  },
  {
   "cell_type": "code",
   "execution_count": 9,
   "id": "bf3f363c",
   "metadata": {},
   "outputs": [
    {
     "data": {
      "text/plain": [
       "Index(['id', 'keywords'], dtype='object')"
      ]
     },
     "execution_count": 9,
     "metadata": {},
     "output_type": "execute_result"
    }
   ],
   "source": [
    "keywords.columns"
   ]
  },
  {
   "cell_type": "code",
   "execution_count": 10,
   "id": "9b14c65d",
   "metadata": {},
   "outputs": [
    {
     "data": {
      "text/html": [
       "<div>\n",
       "<style scoped>\n",
       "    .dataframe tbody tr th:only-of-type {\n",
       "        vertical-align: middle;\n",
       "    }\n",
       "\n",
       "    .dataframe tbody tr th {\n",
       "        vertical-align: top;\n",
       "    }\n",
       "\n",
       "    .dataframe thead th {\n",
       "        text-align: right;\n",
       "    }\n",
       "</style>\n",
       "<table border=\"1\" class=\"dataframe\">\n",
       "  <thead>\n",
       "    <tr style=\"text-align: right;\">\n",
       "      <th></th>\n",
       "      <th>id</th>\n",
       "      <th>keywords</th>\n",
       "    </tr>\n",
       "  </thead>\n",
       "  <tbody>\n",
       "    <tr>\n",
       "      <th>0</th>\n",
       "      <td>862</td>\n",
       "      <td>[{'id': 931, 'name': 'jealousy'}, {'id': 4290,...</td>\n",
       "    </tr>\n",
       "    <tr>\n",
       "      <th>1</th>\n",
       "      <td>8844</td>\n",
       "      <td>[{'id': 10090, 'name': 'board game'}, {'id': 1...</td>\n",
       "    </tr>\n",
       "    <tr>\n",
       "      <th>2</th>\n",
       "      <td>15602</td>\n",
       "      <td>[{'id': 1495, 'name': 'fishing'}, {'id': 12392...</td>\n",
       "    </tr>\n",
       "    <tr>\n",
       "      <th>3</th>\n",
       "      <td>31357</td>\n",
       "      <td>[{'id': 818, 'name': 'based on novel'}, {'id':...</td>\n",
       "    </tr>\n",
       "    <tr>\n",
       "      <th>4</th>\n",
       "      <td>11862</td>\n",
       "      <td>[{'id': 1009, 'name': 'baby'}, {'id': 1599, 'n...</td>\n",
       "    </tr>\n",
       "    <tr>\n",
       "      <th>...</th>\n",
       "      <td>...</td>\n",
       "      <td>...</td>\n",
       "    </tr>\n",
       "    <tr>\n",
       "      <th>46414</th>\n",
       "      <td>439050</td>\n",
       "      <td>[{'id': 10703, 'name': 'tragic love'}]</td>\n",
       "    </tr>\n",
       "    <tr>\n",
       "      <th>46415</th>\n",
       "      <td>111109</td>\n",
       "      <td>[{'id': 2679, 'name': 'artist'}, {'id': 14531,...</td>\n",
       "    </tr>\n",
       "    <tr>\n",
       "      <th>46416</th>\n",
       "      <td>67758</td>\n",
       "      <td>[]</td>\n",
       "    </tr>\n",
       "    <tr>\n",
       "      <th>46417</th>\n",
       "      <td>227506</td>\n",
       "      <td>[]</td>\n",
       "    </tr>\n",
       "    <tr>\n",
       "      <th>46418</th>\n",
       "      <td>461257</td>\n",
       "      <td>[]</td>\n",
       "    </tr>\n",
       "  </tbody>\n",
       "</table>\n",
       "<p>46419 rows × 2 columns</p>\n",
       "</div>"
      ],
      "text/plain": [
       "           id                                           keywords\n",
       "0         862  [{'id': 931, 'name': 'jealousy'}, {'id': 4290,...\n",
       "1        8844  [{'id': 10090, 'name': 'board game'}, {'id': 1...\n",
       "2       15602  [{'id': 1495, 'name': 'fishing'}, {'id': 12392...\n",
       "3       31357  [{'id': 818, 'name': 'based on novel'}, {'id':...\n",
       "4       11862  [{'id': 1009, 'name': 'baby'}, {'id': 1599, 'n...\n",
       "...       ...                                                ...\n",
       "46414  439050             [{'id': 10703, 'name': 'tragic love'}]\n",
       "46415  111109  [{'id': 2679, 'name': 'artist'}, {'id': 14531,...\n",
       "46416   67758                                                 []\n",
       "46417  227506                                                 []\n",
       "46418  461257                                                 []\n",
       "\n",
       "[46419 rows x 2 columns]"
      ]
     },
     "execution_count": 10,
     "metadata": {},
     "output_type": "execute_result"
    }
   ],
   "source": [
    "keywords"
   ]
  },
  {
   "cell_type": "code",
   "execution_count": 11,
   "id": "70320e9a",
   "metadata": {},
   "outputs": [],
   "source": [
    "keywords['keywords_string'] = ''"
   ]
  },
  {
   "cell_type": "code",
   "execution_count": 12,
   "id": "60bd5012",
   "metadata": {},
   "outputs": [
    {
     "data": {
      "text/plain": [
       "<bound method NDFrame.head of            id                                           keywords  \\\n",
       "0         862  [{'id': 931, 'name': 'jealousy'}, {'id': 4290,...   \n",
       "1        8844  [{'id': 10090, 'name': 'board game'}, {'id': 1...   \n",
       "2       15602  [{'id': 1495, 'name': 'fishing'}, {'id': 12392...   \n",
       "3       31357  [{'id': 818, 'name': 'based on novel'}, {'id':...   \n",
       "4       11862  [{'id': 1009, 'name': 'baby'}, {'id': 1599, 'n...   \n",
       "...       ...                                                ...   \n",
       "46414  439050             [{'id': 10703, 'name': 'tragic love'}]   \n",
       "46415  111109  [{'id': 2679, 'name': 'artist'}, {'id': 14531,...   \n",
       "46416   67758                                                 []   \n",
       "46417  227506                                                 []   \n",
       "46418  461257                                                 []   \n",
       "\n",
       "      keywords_string  \n",
       "0                      \n",
       "1                      \n",
       "2                      \n",
       "3                      \n",
       "4                      \n",
       "...               ...  \n",
       "46414                  \n",
       "46415                  \n",
       "46416                  \n",
       "46417                  \n",
       "46418                  \n",
       "\n",
       "[46419 rows x 3 columns]>"
      ]
     },
     "execution_count": 12,
     "metadata": {},
     "output_type": "execute_result"
    }
   ],
   "source": [
    "keywords.head"
   ]
  },
  {
   "cell_type": "code",
   "execution_count": 13,
   "id": "d8b2312a",
   "metadata": {},
   "outputs": [],
   "source": [
    "for i in range(keywords.shape[0]):\n",
    "    #for i in range(1):\n",
    "    words = ''\n",
    "    json_str = keywords.iloc[i,1]\n",
    "    json_str = json_str.strip('[]')\n",
    "    json_str = json_str.replace('{','')\n",
    "    json_str = json_str.replace('}','')\n",
    "    json_list = json_str.split(',')\n",
    "\n",
    "    for j in json_list[1::2]:\n",
    "        word = j.split(':')[1].strip(' ').strip('\\'')\n",
    "        words += word + ' '\n",
    "    \n",
    "    words = words.strip(' ')\n",
    "    keywords.iloc[i,2] = words"
   ]
  },
  {
   "cell_type": "code",
   "execution_count": 14,
   "id": "dcfbf120",
   "metadata": {},
   "outputs": [],
   "source": [
    "del keywords['keywords']"
   ]
  },
  {
   "cell_type": "code",
   "execution_count": 15,
   "id": "0a5a7416",
   "metadata": {},
   "outputs": [
    {
     "data": {
      "text/html": [
       "<div>\n",
       "<style scoped>\n",
       "    .dataframe tbody tr th:only-of-type {\n",
       "        vertical-align: middle;\n",
       "    }\n",
       "\n",
       "    .dataframe tbody tr th {\n",
       "        vertical-align: top;\n",
       "    }\n",
       "\n",
       "    .dataframe thead th {\n",
       "        text-align: right;\n",
       "    }\n",
       "</style>\n",
       "<table border=\"1\" class=\"dataframe\">\n",
       "  <thead>\n",
       "    <tr style=\"text-align: right;\">\n",
       "      <th></th>\n",
       "      <th>id</th>\n",
       "      <th>keywords_string</th>\n",
       "    </tr>\n",
       "  </thead>\n",
       "  <tbody>\n",
       "    <tr>\n",
       "      <th>0</th>\n",
       "      <td>862</td>\n",
       "      <td>jealousy toy boy friendship friends rivalry bo...</td>\n",
       "    </tr>\n",
       "    <tr>\n",
       "      <th>1</th>\n",
       "      <td>8844</td>\n",
       "      <td>board game disappearance \"based on children's ...</td>\n",
       "    </tr>\n",
       "    <tr>\n",
       "      <th>2</th>\n",
       "      <td>15602</td>\n",
       "      <td>fishing best friend duringcreditsstinger old men</td>\n",
       "    </tr>\n",
       "    <tr>\n",
       "      <th>3</th>\n",
       "      <td>31357</td>\n",
       "      <td>based on novel interracial relationship single...</td>\n",
       "    </tr>\n",
       "    <tr>\n",
       "      <th>4</th>\n",
       "      <td>11862</td>\n",
       "      <td>baby midlife crisis confidence aging daughter ...</td>\n",
       "    </tr>\n",
       "    <tr>\n",
       "      <th>...</th>\n",
       "      <td>...</td>\n",
       "      <td>...</td>\n",
       "    </tr>\n",
       "    <tr>\n",
       "      <th>46414</th>\n",
       "      <td>439050</td>\n",
       "      <td>tragic love</td>\n",
       "    </tr>\n",
       "    <tr>\n",
       "      <th>46415</th>\n",
       "      <td>111109</td>\n",
       "      <td>artist play pinoy</td>\n",
       "    </tr>\n",
       "    <tr>\n",
       "      <th>46416</th>\n",
       "      <td>67758</td>\n",
       "      <td></td>\n",
       "    </tr>\n",
       "    <tr>\n",
       "      <th>46417</th>\n",
       "      <td>227506</td>\n",
       "      <td></td>\n",
       "    </tr>\n",
       "    <tr>\n",
       "      <th>46418</th>\n",
       "      <td>461257</td>\n",
       "      <td></td>\n",
       "    </tr>\n",
       "  </tbody>\n",
       "</table>\n",
       "<p>46419 rows × 2 columns</p>\n",
       "</div>"
      ],
      "text/plain": [
       "           id                                    keywords_string\n",
       "0         862  jealousy toy boy friendship friends rivalry bo...\n",
       "1        8844  board game disappearance \"based on children's ...\n",
       "2       15602   fishing best friend duringcreditsstinger old men\n",
       "3       31357  based on novel interracial relationship single...\n",
       "4       11862  baby midlife crisis confidence aging daughter ...\n",
       "...       ...                                                ...\n",
       "46414  439050                                        tragic love\n",
       "46415  111109                                  artist play pinoy\n",
       "46416   67758                                                   \n",
       "46417  227506                                                   \n",
       "46418  461257                                                   \n",
       "\n",
       "[46419 rows x 2 columns]"
      ]
     },
     "execution_count": 15,
     "metadata": {},
     "output_type": "execute_result"
    }
   ],
   "source": [
    "keywords"
   ]
  },
  {
   "cell_type": "code",
   "execution_count": 16,
   "id": "6f7283e4",
   "metadata": {},
   "outputs": [
    {
     "data": {
      "text/plain": [
       "id                  int64\n",
       "keywords_string    object\n",
       "dtype: object"
      ]
     },
     "execution_count": 16,
     "metadata": {},
     "output_type": "execute_result"
    }
   ],
   "source": [
    "keywords.dtypes"
   ]
  },
  {
   "cell_type": "markdown",
   "id": "dfc40a9f",
   "metadata": {},
   "source": [
    "### Concat Data"
   ]
  },
  {
   "cell_type": "code",
   "execution_count": 17,
   "id": "fe03c9ad",
   "metadata": {},
   "outputs": [],
   "source": [
    "keywords['id'] = keywords['id'].astype(str)"
   ]
  },
  {
   "cell_type": "code",
   "execution_count": 18,
   "id": "9da6e935",
   "metadata": {},
   "outputs": [
    {
     "data": {
      "text/plain": [
       "id                 object\n",
       "keywords_string    object\n",
       "dtype: object"
      ]
     },
     "execution_count": 18,
     "metadata": {},
     "output_type": "execute_result"
    }
   ],
   "source": [
    "keywords.dtypes"
   ]
  },
  {
   "cell_type": "code",
   "execution_count": 19,
   "id": "e3f4b14d",
   "metadata": {},
   "outputs": [],
   "source": [
    "movie_data = pd.merge(input_data, keywords, on='id')"
   ]
  },
  {
   "cell_type": "code",
   "execution_count": 20,
   "id": "1f353d48",
   "metadata": {},
   "outputs": [],
   "source": [
    "nan_value = float(\"NaN\")\n",
    "movie_data.replace(\"\", nan_value, inplace=True)\n",
    "movie_data.dropna(subset = [\"title\", \"genre\", \"keywords_string\"], inplace=True)"
   ]
  },
  {
   "cell_type": "code",
   "execution_count": 21,
   "id": "f4218dc2",
   "metadata": {},
   "outputs": [
    {
     "data": {
      "text/html": [
       "<div>\n",
       "<style scoped>\n",
       "    .dataframe tbody tr th:only-of-type {\n",
       "        vertical-align: middle;\n",
       "    }\n",
       "\n",
       "    .dataframe tbody tr th {\n",
       "        vertical-align: top;\n",
       "    }\n",
       "\n",
       "    .dataframe thead th {\n",
       "        text-align: right;\n",
       "    }\n",
       "</style>\n",
       "<table border=\"1\" class=\"dataframe\">\n",
       "  <thead>\n",
       "    <tr style=\"text-align: right;\">\n",
       "      <th></th>\n",
       "      <th>id</th>\n",
       "      <th>title</th>\n",
       "      <th>genre</th>\n",
       "      <th>keywords_string</th>\n",
       "    </tr>\n",
       "  </thead>\n",
       "  <tbody>\n",
       "    <tr>\n",
       "      <th>0</th>\n",
       "      <td>862</td>\n",
       "      <td>Toy Story</td>\n",
       "      <td>Animation</td>\n",
       "      <td>jealousy toy boy friendship friends rivalry bo...</td>\n",
       "    </tr>\n",
       "    <tr>\n",
       "      <th>1</th>\n",
       "      <td>8844</td>\n",
       "      <td>Jumanji</td>\n",
       "      <td>Adventure</td>\n",
       "      <td>board game disappearance \"based on children's ...</td>\n",
       "    </tr>\n",
       "    <tr>\n",
       "      <th>2</th>\n",
       "      <td>15602</td>\n",
       "      <td>Grumpier Old Men</td>\n",
       "      <td>Romance</td>\n",
       "      <td>fishing best friend duringcreditsstinger old men</td>\n",
       "    </tr>\n",
       "    <tr>\n",
       "      <th>3</th>\n",
       "      <td>31357</td>\n",
       "      <td>Waiting to Exhale</td>\n",
       "      <td>Comedy</td>\n",
       "      <td>based on novel interracial relationship single...</td>\n",
       "    </tr>\n",
       "    <tr>\n",
       "      <th>4</th>\n",
       "      <td>11862</td>\n",
       "      <td>Father of the Bride Part II</td>\n",
       "      <td>Comedy</td>\n",
       "      <td>baby midlife crisis confidence aging daughter ...</td>\n",
       "    </tr>\n",
       "    <tr>\n",
       "      <th>...</th>\n",
       "      <td>...</td>\n",
       "      <td>...</td>\n",
       "      <td>...</td>\n",
       "      <td>...</td>\n",
       "    </tr>\n",
       "    <tr>\n",
       "      <th>46472</th>\n",
       "      <td>84419</td>\n",
       "      <td>House of Horrors</td>\n",
       "      <td>Horror</td>\n",
       "      <td>revenge murder serial killer new york city scu...</td>\n",
       "    </tr>\n",
       "    <tr>\n",
       "      <th>46473</th>\n",
       "      <td>390959</td>\n",
       "      <td>Shadow of the Blair Witch</td>\n",
       "      <td>Mystery</td>\n",
       "      <td>blair witch</td>\n",
       "    </tr>\n",
       "    <tr>\n",
       "      <th>46474</th>\n",
       "      <td>289923</td>\n",
       "      <td>The Burkittsville 7</td>\n",
       "      <td>Horror</td>\n",
       "      <td>witch mythology legend serial killer mockumentary</td>\n",
       "    </tr>\n",
       "    <tr>\n",
       "      <th>46477</th>\n",
       "      <td>439050</td>\n",
       "      <td>Subdue</td>\n",
       "      <td>Drama</td>\n",
       "      <td>tragic love</td>\n",
       "    </tr>\n",
       "    <tr>\n",
       "      <th>46478</th>\n",
       "      <td>111109</td>\n",
       "      <td>Century of Birthing</td>\n",
       "      <td>Drama</td>\n",
       "      <td>artist play pinoy</td>\n",
       "    </tr>\n",
       "  </tbody>\n",
       "</table>\n",
       "<p>31656 rows × 4 columns</p>\n",
       "</div>"
      ],
      "text/plain": [
       "           id                        title      genre  \\\n",
       "0         862                    Toy Story  Animation   \n",
       "1        8844                      Jumanji  Adventure   \n",
       "2       15602             Grumpier Old Men    Romance   \n",
       "3       31357            Waiting to Exhale     Comedy   \n",
       "4       11862  Father of the Bride Part II     Comedy   \n",
       "...       ...                          ...        ...   \n",
       "46472   84419             House of Horrors     Horror   \n",
       "46473  390959    Shadow of the Blair Witch    Mystery   \n",
       "46474  289923          The Burkittsville 7     Horror   \n",
       "46477  439050                       Subdue      Drama   \n",
       "46478  111109          Century of Birthing      Drama   \n",
       "\n",
       "                                         keywords_string  \n",
       "0      jealousy toy boy friendship friends rivalry bo...  \n",
       "1      board game disappearance \"based on children's ...  \n",
       "2       fishing best friend duringcreditsstinger old men  \n",
       "3      based on novel interracial relationship single...  \n",
       "4      baby midlife crisis confidence aging daughter ...  \n",
       "...                                                  ...  \n",
       "46472  revenge murder serial killer new york city scu...  \n",
       "46473                                        blair witch  \n",
       "46474  witch mythology legend serial killer mockumentary  \n",
       "46477                                        tragic love  \n",
       "46478                                  artist play pinoy  \n",
       "\n",
       "[31656 rows x 4 columns]"
      ]
     },
     "execution_count": 21,
     "metadata": {},
     "output_type": "execute_result"
    }
   ],
   "source": [
    "movie_data"
   ]
  },
  {
   "cell_type": "code",
   "execution_count": 22,
   "id": "dfaae4f5",
   "metadata": {},
   "outputs": [],
   "source": [
    "movie_data['input'] = movie_data['title'] + ' keywords ' + movie_data['keywords_string']"
   ]
  },
  {
   "cell_type": "code",
   "execution_count": 23,
   "id": "66f911ba",
   "metadata": {},
   "outputs": [],
   "source": [
    "movie_data.drop(labels=['title', 'keywords_string', 'id'], axis=1, inplace=True)"
   ]
  },
  {
   "cell_type": "code",
   "execution_count": 24,
   "id": "f79bc5bf",
   "metadata": {},
   "outputs": [
    {
     "data": {
      "text/html": [
       "<div>\n",
       "<style scoped>\n",
       "    .dataframe tbody tr th:only-of-type {\n",
       "        vertical-align: middle;\n",
       "    }\n",
       "\n",
       "    .dataframe tbody tr th {\n",
       "        vertical-align: top;\n",
       "    }\n",
       "\n",
       "    .dataframe thead th {\n",
       "        text-align: right;\n",
       "    }\n",
       "</style>\n",
       "<table border=\"1\" class=\"dataframe\">\n",
       "  <thead>\n",
       "    <tr style=\"text-align: right;\">\n",
       "      <th></th>\n",
       "      <th>genre</th>\n",
       "      <th>input</th>\n",
       "    </tr>\n",
       "  </thead>\n",
       "  <tbody>\n",
       "    <tr>\n",
       "      <th>0</th>\n",
       "      <td>Animation</td>\n",
       "      <td>Toy Story keywords jealousy toy boy friendship...</td>\n",
       "    </tr>\n",
       "    <tr>\n",
       "      <th>1</th>\n",
       "      <td>Adventure</td>\n",
       "      <td>Jumanji keywords board game disappearance \"bas...</td>\n",
       "    </tr>\n",
       "    <tr>\n",
       "      <th>2</th>\n",
       "      <td>Romance</td>\n",
       "      <td>Grumpier Old Men keywords fishing best friend ...</td>\n",
       "    </tr>\n",
       "    <tr>\n",
       "      <th>3</th>\n",
       "      <td>Comedy</td>\n",
       "      <td>Waiting to Exhale keywords based on novel inte...</td>\n",
       "    </tr>\n",
       "    <tr>\n",
       "      <th>4</th>\n",
       "      <td>Comedy</td>\n",
       "      <td>Father of the Bride Part II keywords baby midl...</td>\n",
       "    </tr>\n",
       "    <tr>\n",
       "      <th>...</th>\n",
       "      <td>...</td>\n",
       "      <td>...</td>\n",
       "    </tr>\n",
       "    <tr>\n",
       "      <th>46472</th>\n",
       "      <td>Horror</td>\n",
       "      <td>House of Horrors keywords revenge murder seria...</td>\n",
       "    </tr>\n",
       "    <tr>\n",
       "      <th>46473</th>\n",
       "      <td>Mystery</td>\n",
       "      <td>Shadow of the Blair Witch keywords blair witch</td>\n",
       "    </tr>\n",
       "    <tr>\n",
       "      <th>46474</th>\n",
       "      <td>Horror</td>\n",
       "      <td>The Burkittsville 7 keywords witch mythology l...</td>\n",
       "    </tr>\n",
       "    <tr>\n",
       "      <th>46477</th>\n",
       "      <td>Drama</td>\n",
       "      <td>Subdue keywords tragic love</td>\n",
       "    </tr>\n",
       "    <tr>\n",
       "      <th>46478</th>\n",
       "      <td>Drama</td>\n",
       "      <td>Century of Birthing keywords artist play pinoy</td>\n",
       "    </tr>\n",
       "  </tbody>\n",
       "</table>\n",
       "<p>31656 rows × 2 columns</p>\n",
       "</div>"
      ],
      "text/plain": [
       "           genre                                              input\n",
       "0      Animation  Toy Story keywords jealousy toy boy friendship...\n",
       "1      Adventure  Jumanji keywords board game disappearance \"bas...\n",
       "2        Romance  Grumpier Old Men keywords fishing best friend ...\n",
       "3         Comedy  Waiting to Exhale keywords based on novel inte...\n",
       "4         Comedy  Father of the Bride Part II keywords baby midl...\n",
       "...          ...                                                ...\n",
       "46472     Horror  House of Horrors keywords revenge murder seria...\n",
       "46473    Mystery     Shadow of the Blair Witch keywords blair witch\n",
       "46474     Horror  The Burkittsville 7 keywords witch mythology l...\n",
       "46477      Drama                        Subdue keywords tragic love\n",
       "46478      Drama     Century of Birthing keywords artist play pinoy\n",
       "\n",
       "[31656 rows x 2 columns]"
      ]
     },
     "execution_count": 24,
     "metadata": {},
     "output_type": "execute_result"
    }
   ],
   "source": [
    "movie_data"
   ]
  },
  {
   "cell_type": "markdown",
   "id": "a90c32e0",
   "metadata": {},
   "source": [
    " ### Preprocessing"
   ]
  },
  {
   "cell_type": "code",
   "execution_count": 25,
   "id": "b3b24d12",
   "metadata": {},
   "outputs": [],
   "source": [
    "stop_words = set(stopwords.words(\"english\"))\n",
    "lemmatizer = WordNetLemmatizer()"
   ]
  },
  {
   "cell_type": "code",
   "execution_count": 26,
   "id": "d71cce84",
   "metadata": {},
   "outputs": [],
   "source": [
    "def clean_text(text):\n",
    "    text = text.lower()\n",
    "    text = [lemmatizer.lemmatize(token) for token in text.split(\" \")]\n",
    "    text = [word for word in text if  not word in stop_words]\n",
    "    text = \" \".join(text)\n",
    "    return text"
   ]
  },
  {
   "cell_type": "code",
   "execution_count": 27,
   "id": "2bbe7cbf",
   "metadata": {},
   "outputs": [],
   "source": [
    "movie_data['Processed_input'] = movie_data.input.apply(lambda x: clean_text(x))"
   ]
  },
  {
   "cell_type": "code",
   "execution_count": 28,
   "id": "c0f9ae74",
   "metadata": {},
   "outputs": [],
   "source": [
    "X = movie_data['Processed_input']"
   ]
  },
  {
   "cell_type": "code",
   "execution_count": 29,
   "id": "2ae2fb5c",
   "metadata": {},
   "outputs": [
    {
     "data": {
      "text/plain": [
       "19"
      ]
     },
     "execution_count": 29,
     "metadata": {},
     "output_type": "execute_result"
    }
   ],
   "source": [
    "Y = movie_data['genre']\n",
    "le = preprocessing.LabelEncoder()\n",
    "le.fit(movie_data['genre'])\n",
    "Y = le.transform(movie_data['genre'])\n",
    "max(Y)"
   ]
  },
  {
   "cell_type": "code",
   "execution_count": 30,
   "id": "b59eb3f3",
   "metadata": {},
   "outputs": [],
   "source": [
    "with open('Label_encoder.pickle', 'wb') as handle:\n",
    "    pickle.dump(le, handle, protocol=pickle.HIGHEST_PROTOCOL)"
   ]
  },
  {
   "cell_type": "code",
   "execution_count": 31,
   "id": "293aeb46",
   "metadata": {},
   "outputs": [],
   "source": [
    "tokenizer = Tokenizer()\n",
    "tokenizer.fit_on_texts(movie_data['Processed_input'])\n",
    "encoded_docs = tokenizer.texts_to_sequences(movie_data['Processed_input'])"
   ]
  },
  {
   "cell_type": "code",
   "execution_count": 32,
   "id": "4faa80dc",
   "metadata": {},
   "outputs": [],
   "source": [
    "# saving\n",
    "with open('tokenizer.pickle', 'wb') as handle:\n",
    "    pickle.dump(tokenizer, handle, protocol=pickle.HIGHEST_PROTOCOL)"
   ]
  },
  {
   "cell_type": "code",
   "execution_count": 33,
   "id": "7d52d1ff",
   "metadata": {},
   "outputs": [
    {
     "name": "stdout",
     "output_type": "stream",
     "text": [
      "193\n"
     ]
    }
   ],
   "source": [
    "# pad sequences\n",
    "max_length = max([len(s.split()) for s in movie_data['Processed_input']])\n",
    "X = pad_sequences(encoded_docs, maxlen=max_length, padding='post')\n",
    "print(max_length)"
   ]
  },
  {
   "cell_type": "code",
   "execution_count": 34,
   "id": "fb31439f",
   "metadata": {},
   "outputs": [],
   "source": [
    "X_train, X_val = X[:29656,:], X[29656:,:]"
   ]
  },
  {
   "cell_type": "code",
   "execution_count": 35,
   "id": "76b613be",
   "metadata": {},
   "outputs": [],
   "source": [
    "Y_train, Y_val = Y[:29656], Y[29656:]"
   ]
  },
  {
   "cell_type": "markdown",
   "id": "0fe5743e",
   "metadata": {},
   "source": [
    "### Build Neural Net"
   ]
  },
  {
   "cell_type": "code",
   "execution_count": 36,
   "id": "2cc74abe",
   "metadata": {},
   "outputs": [],
   "source": [
    "embeddings_dict = {}\n",
    "with open(\"glove.6B.200d.txt\", 'r') as f:\n",
    "    for line in f:\n",
    "        values = line.split()\n",
    "        word = values[0]\n",
    "        vector = np.asarray(values[1:], \"float32\")\n",
    "        embeddings_dict[word] = vector"
   ]
  },
  {
   "cell_type": "code",
   "execution_count": 37,
   "id": "4bffcc8e",
   "metadata": {},
   "outputs": [],
   "source": [
    "vocab_size = len(tokenizer.word_index) + 1"
   ]
  },
  {
   "cell_type": "code",
   "execution_count": 38,
   "id": "4a858fd2",
   "metadata": {},
   "outputs": [],
   "source": [
    "embedding_matrix = np.zeros((vocab_size, 200))\n",
    "for word, i in tokenizer.word_index.items():\n",
    "    embedding_vector = embeddings_dict.get(word)\n",
    "    if embedding_vector is not None:\n",
    "        embedding_matrix[i] = embedding_vector"
   ]
  },
  {
   "cell_type": "code",
   "execution_count": 39,
   "id": "26a5dfca",
   "metadata": {},
   "outputs": [],
   "source": [
    "model = Sequential()\n",
    "model.add(layers.Embedding(input_dim=vocab_size, \n",
    "                           output_dim=200,\n",
    "                           weights = [embedding_matrix],\n",
    "                           input_length=max_length,\n",
    "                           trainable=True))\n",
    "model.add(Conv1D(filters=16, kernel_size=8, activation='relu'))\n",
    "model.add(layers.Flatten())\n",
    "model.add(layers.Dense(20, activation='sigmoid'))"
   ]
  },
  {
   "cell_type": "code",
   "execution_count": 40,
   "id": "95bbbe38",
   "metadata": {},
   "outputs": [],
   "source": [
    "# compile network\n",
    "model.compile(loss=tf.keras.losses.SparseCategoricalCrossentropy(), optimizer='adam', metrics=['accuracy'])"
   ]
  },
  {
   "cell_type": "code",
   "execution_count": null,
   "id": "ce5d0207",
   "metadata": {},
   "outputs": [],
   "source": [
    "model.summary()"
   ]
  },
  {
   "cell_type": "code",
   "execution_count": null,
   "id": "cb46c736",
   "metadata": {},
   "outputs": [
    {
     "name": "stdout",
     "output_type": "stream",
     "text": [
      "232/232 - 52s - loss: 2.9464 - accuracy: 0.2736\n",
      "63/63 [==============================] - 1s 10ms/step - loss: 2.9020 - accuracy: 0.2375\n"
     ]
    }
   ],
   "source": [
    "# Train model with early stopping and save best model\n",
    "past_accuracy = 0\n",
    "session = 0\n",
    "while True:\n",
    "    model.fit(X_train, Y_train, batch_size=128, epochs=1, verbose=2)\n",
    "    loss, accuracy = model.evaluate(X_val, Y_val)\n",
    "    if past_accuracy < accuracy:\n",
    "        past_accuracy = accuracy\n",
    "        model_save = model\n",
    "    else:\n",
    "        session += 1\n",
    "        if session == 3:\n",
    "            break"
   ]
  },
  {
   "cell_type": "code",
   "execution_count": null,
   "id": "b2735ac0",
   "metadata": {},
   "outputs": [],
   "source": [
    "model_save.save(os.getcwd() + '\\movie_genre_model')"
   ]
  },
  {
   "cell_type": "code",
   "execution_count": null,
   "id": "3b53b5cf",
   "metadata": {},
   "outputs": [],
   "source": []
  }
 ],
 "metadata": {
  "kernelspec": {
   "display_name": "Python 3",
   "language": "python",
   "name": "python3"
  },
  "language_info": {
   "codemirror_mode": {
    "name": "ipython",
    "version": 3
   },
   "file_extension": ".py",
   "mimetype": "text/x-python",
   "name": "python",
   "nbconvert_exporter": "python",
   "pygments_lexer": "ipython3",
   "version": "3.8.10"
  }
 },
 "nbformat": 4,
 "nbformat_minor": 5
}
